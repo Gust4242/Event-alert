{
 "cells": [
  {
   "cell_type": "code",
   "execution_count": 4,
   "metadata": {},
   "outputs": [],
   "source": [
    "import numpy as np\n",
    "import pandas as pd\n",
    "import requests\n",
    "\n",
    "from bs4 import BeautifulSoup"
   ]
  },
  {
   "cell_type": "code",
   "execution_count": 31,
   "metadata": {},
   "outputs": [
    {
     "data": {
      "text/plain": [
       "['https://www.cinebelasartes.com.br/programacao/belas-sonoriza-brilho-eterno-de-uma-mente-sem-lembrancas/',\n",
       " 'https://www.cinebelasartes.com.br/programacao/belas-sonoriza-brilho-eterno-de-uma-mente-sem-lembrancas/']"
      ]
     },
     "execution_count": 31,
     "metadata": {},
     "output_type": "execute_result"
    }
   ],
   "source": [
    "url = 'https://webcache.googleusercontent.com/search?q=cache:https://www.cinebelasartes.com.br/programacao-especial/'\n",
    "result = requests.get(url)\n",
    "doc = BeautifulSoup(result.text, 'html.parser')\n",
    "events = doc.find_all('a')\n",
    "sonoriza = [event['href'] for event in events if event.has_attr('href') and 'sonoriza' in event['href'].lower()]\n",
    "sonoriza"
   ]
  }
 ],
 "metadata": {
  "kernelspec": {
   "display_name": "Python 3",
   "language": "python",
   "name": "python3"
  },
  "language_info": {
   "codemirror_mode": {
    "name": "ipython",
    "version": 3
   },
   "file_extension": ".py",
   "mimetype": "text/x-python",
   "name": "python",
   "nbconvert_exporter": "python",
   "pygments_lexer": "ipython3",
   "version": "3.10.7"
  }
 },
 "nbformat": 4,
 "nbformat_minor": 2
}
